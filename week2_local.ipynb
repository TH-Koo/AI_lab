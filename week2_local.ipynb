{
 "cells": [
  {
   "cell_type": "code",
   "execution_count": 2,
   "id": "fa0f7c92-9e85-48bb-b493-20da656a57aa",
   "metadata": {},
   "outputs": [
    {
     "name": "stdout",
     "output_type": "stream",
     "text": [
      "True\n",
      "NVIDIA GeForce RTX 4050 Laptop GPU\n"
     ]
    }
   ],
   "source": [
    "import torch\n",
    "print(torch.cuda.is_available())\n",
    "print(torch.cuda.get_device_name(0))"
   ]
  },
  {
   "cell_type": "code",
   "execution_count": 3,
   "id": "1d6a2418-e17e-4c0a-9a54-6413ac6dbf27",
   "metadata": {
    "editable": true,
    "slideshow": {
     "slide_type": ""
    },
    "tags": []
   },
   "outputs": [
    {
     "name": "stdout",
     "output_type": "stream",
     "text": [
      "✓ PyTorch is successfully imported!\n",
      "PyTorch version: 2.8.0+cu129\n",
      "✓ CUDA is available! Device count: 1\n",
      "Current CUDA device: NVIDIA GeForce RTX 4050 Laptop GPU\n",
      "✓ Test tensor created: tensor([1, 2, 3, 4, 5], device='cuda:0')\n",
      "Tensor shape: torch.Size([5])\n",
      "Tensor device: cuda:0\n",
      "✓ Basic operation test(squaring): tensor([ 1,  4,  9, 16, 25], device='cuda:0')\n",
      "\n",
      "🎉 PyTorch is working correctly!\n",
      "✓ Basic operation test(squaring): tensor([ 1,  4,  9, 16, 25], device='cuda:0')\n",
      "\n",
      "🎉 PyTorch is working correctly!\n"
     ]
    }
   ],
   "source": [
    "# Check if PyTorch is available and import it\n",
    "try:\n",
    "  import torch\n",
    "  print(\"✓ PyTorch is successfully imported!\")\n",
    "  print(f\"PyTorch version: {torch.__version__}\")\n",
    "\n",
    "#Check if CUDA is available\n",
    "  if torch.cuda.is_available():\n",
    "    print(f\"✓ CUDA is available! Device count: {torch.cuda.device_count()}\")\n",
    "    print(f\"Current CUDA device: {torch.cuda.get_device_name(0)}\")\n",
    "  else:\n",
    "    print(\"CUDA is not available. Using CPU\")\n",
    "\n",
    "#Create a simple tensor to test basic functionality\n",
    "  test_tensor = torch.tensor([1, 2, 3, 4, 5],device='cuda')\n",
    "  print(f\"✓ Test tensor created: {test_tensor}\")\n",
    "  print(f\"Tensor shape: {test_tensor.shape}\")\n",
    "  print(f\"Tensor device: {test_tensor.device}\")\n",
    "\n",
    "#Basic tensor operation\n",
    "  squared_tensor = test_tensor ** 2\n",
    "  print(f\"✓ Basic operation test(squaring): {squared_tensor}\")\n",
    "\n",
    "  print(\"\\n🎉 PyTorch is working correctly!\")\n",
    "\n",
    "  squared_tensor = test_tensor ** 2\n",
    "  print(f\"✓ Basic operation test(squaring): {squared_tensor}\")\n",
    "\n",
    "  print(\"\\n🎉 PyTorch is working correctly!\")\n",
    "\n",
    "except ImportError as e:\n",
    "    print(\"❌ PyTorch is not installed or not available\")\n",
    "    print(f\"Error details: {e}\")\n",
    "    print(\"Please install PyTorch using: pip install torch\")\n",
    "except Exception as e:\n",
    "    print(f\"❌ An error occurred while testing PyTorch: {e}\")"
   ]
  }
 ],
 "metadata": {
  "kernelspec": {
   "display_name": "Python (ai)",
   "language": "python",
   "name": "ai"
  },
  "language_info": {
   "codemirror_mode": {
    "name": "ipython",
    "version": 3
   },
   "file_extension": ".py",
   "mimetype": "text/x-python",
   "name": "python",
   "nbconvert_exporter": "python",
   "pygments_lexer": "ipython3",
   "version": "3.11.13"
  }
 },
 "nbformat": 4,
 "nbformat_minor": 5
}
